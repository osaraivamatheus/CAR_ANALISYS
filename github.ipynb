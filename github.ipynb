{
 "cells": [
  {
   "cell_type": "code",
   "execution_count": null,
   "metadata": {
    "tags": [
     "a"
    ]
   },
   "outputs": [],
   "source": [
    "#Carregando pacotes\n",
    "%matplotlib inline\n",
    "import pandas as pd\n",
    "import matplotlib.pyplot as plt\n",
    "import yfinance as yf #pip install yfinance\n",
    "import numpy as np\n",
    "import datetime\n",
    "from statsmodels.graphics.tsaplots import plot_acf, plot_pacf #grafico acf pacf\n",
    "from statsmodels.stats.diagnostic import acorr_ljungbox #teste de independencia residual\n",
    "from statsmodels.tsa.stattools import adfuller\n",
    "from statsmodels.tsa.arima.model import ARIMA\n",
    "from scipy.stats import shapiro, normaltest, probplot\n",
    "\n",
    "import warnings #apenas para remover avisos\n",
    "warnings.filterwarnings('ignore')\n",
    "warnings.simplefilter('ignore')\n",
    "#warnings.simplefilter(action='ignore', category=FutureWarning)\n",
    "    \n",
    "##para datas em portugues\n",
    "import locale\n",
    "locale.setlocale(locale.LC_ALL, \"pt_BR.UTF-8\") \n",
    "from matplotlib.dates import DateFormatter\n",
    "formato = DateFormatter('%b, %Y')\n",
    "\n",
    "##para fontes mais bonitas nos graficos\n",
    "from matplotlib import rc\n",
    "rc('font', **{'family': 'serif', 'serif': ['Computer Modern']})\n",
    "rc('text', usetex=True)\n",
    "\n",
    "plt.rcParams.update({'font.size': 12})\n",
    "plt.rcParams['figure.dpi'] = 500\n",
    "\n",
    "#### graficos bonitinhos\n",
    "def eixo_seta():\n",
    "    ax = plt.gca()\n",
    "    fig = plt.gcf()\n",
    "    # removing the default axis on all sides:\n",
    "    for side in ['right','top']:\n",
    "        ax.spines[side].set_visible(False)\n",
    "\n",
    "    plt.xticks(fontsize=16,rotation=0, ha='center')\n",
    "    plt.yticks(fontsize=16)\n",
    "    plt.xlabel('')\n",
    "\n",
    "#Funcao que calcula retornos anormais acumulados\n",
    "def r(dados):\n",
    "    #RETORNO IBOVESPA\n",
    "    ibov = np.diff(dados.iloc[:,1])\n",
    "    leg_ibov = dados.iloc[:,1][:-1]\n",
    "    ret_ibov = ibov / leg_ibov - 1\n",
    "    \n",
    "    #RETORNO SA\n",
    "    sa = np.diff(dados.iloc[:,0])\n",
    "    leg_sa = dados.iloc[:,0][:-1]\n",
    "    ret_sa = sa / leg_sa - 1\n",
    "    \n",
    "    return np.cumsum(ret_sa - ret_ibov)\n",
    "\n",
    "#Coletando dados e formando banco de dados\n",
    "def m_dados(bancos, i, f, freq='1d'):\n",
    "    bancos.append('^BVSP')\n",
    "    #Coletando dados diarios de fechamento\n",
    "    dados = yf.download(bancos, start=i, end=f, progress=False,interval=freq)['Close'].dropna().reset_index()\n",
    "\n",
    "    #Montando data frame    \n",
    "    if len(bancos)>1:\n",
    "        sa = r(dados.loc[:, [bancos[0], '^BVSP']])\n",
    "        sa = pd.DataFrame({bancos[0]:sa})\n",
    "        for i in range(1, (len(bancos)-1)):\n",
    "            sa1 = r(dados.loc[:, [bancos[i],'^BVSP']])\n",
    "            sa = pd.concat([sa, sa1], axis = 1)\n",
    "       \n",
    "    else:\n",
    "        sa = r(dados.loc[:, [bancos[0],'^BVSP']])\n",
    "        sa = pd.DataFrame({bancos[0]:sa})\n",
    "        \n",
    "        \n",
    "    sa.set_index(dados['Date'][1:], inplace = True)\n",
    "    bancos.pop()\n",
    "    sa.columns = bancos\n",
    "    \n",
    "    \n",
    "    return sa"
   ]
  },
  {
   "cell_type": "code",
   "execution_count": null,
   "metadata": {
    "tags": [
     "a"
    ]
   },
   "outputs": [],
   "source": [
    "#Coletando dados e plotando\n",
    "empresas = ['BBAS3.SA', 'BBDC4.SA', 'ITSA4.SA'] #definindo bancos\n",
    "inicio = '2008-01-03'\n",
    "fim = '2021-01-08'\n",
    "dados = m_dados(empresas, inicio, fim, freq='1d')\n",
    "cores = ['darkblue', 'darkred', 'darkorange']\n",
    "dados.plot(figsize = [16,10], color = cores);\n",
    "leg = plt.legend(fontsize=20)\n",
    "for line in leg.get_lines():\n",
    "    line.set_linewidth(8.0)\n",
    "plt.ylabel('CAR', fontsize=18);\n",
    "eixo_seta()\n",
    "plt.savefig('series_originais.png', \n",
    "            dpi=500, \n",
    "            bbox_inches='tight',\n",
    "            pad_inches = 0)"
   ]
  },
  {
   "cell_type": "code",
   "execution_count": null,
   "metadata": {
    "tags": [
     "a"
    ]
   },
   "outputs": [],
   "source": [
    "bovespa = yf.download(['^BVSP'] ,period='max', progress=False)['Close'].dropna()\n",
    "bovespa.plot(figsize = [16,10], label='Bovespa', color='black');\n",
    "plt.ylabel('Índice', fontsize=18)\n",
    "plt.xticks(rotation=0, ha = 'center');\n",
    "\n",
    "bovespa = pd.DataFrame(bovespa)\n",
    "bovespa['ano'] = pd.DatetimeIndex(bovespa.index).year\n",
    "\n",
    "menores_x = []\n",
    "for i in [2008,2020]:\n",
    "    x = bovespa.groupby('ano').min().loc[i, 'Close']\n",
    "    filt = (bovespa['Close'] == x)\n",
    "    x = bovespa[filt].index\n",
    "    menores_x.append(x)\n",
    "    \n",
    "y1 = bovespa.groupby('ano').min().loc[2008, 'Close']\n",
    "y2 = bovespa.groupby('ano').min().loc[2020, 'Close']\n",
    "ys = [y1,y2]\n",
    "\n",
    "#plt.axvline(x = menores_x[0], ls = '--', color= 'red')\n",
    "#plt.axvline(x = menores_x[1], ls = '--', color= 'red')\n",
    "plt.scatter(menores_x, ys, color='red', marker='o')\n",
    "plt.annotate('Crise financeira \\n de 2008', (menores_x[0], ys[0]-7000))\n",
    "plt.annotate('Pandemia \\n Covid-19', (menores_x[1], ys[1]-7000))\n",
    "eixo_seta()\n",
    "plt.savefig('bovespa.png', dpi=500, \n",
    "            bbox_inches='tight',\n",
    "            pad_inches = 0.1)"
   ]
  },
  {
   "cell_type": "code",
   "execution_count": null,
   "metadata": {
    "tags": [
     "a"
    ]
   },
   "outputs": [],
   "source": [
    "# Criando tabela de estatisticas descritivas\n",
    "medias = np.round(dados.apply(np.mean, axis=0), 4)\n",
    "variancias = np.round(dados.apply(np.var, axis=0), 4)\n",
    "erro_padrao = np.round(dados.apply(np.std, axis=0), 4)\n",
    "minimos = np.round(dados.apply(np.min, axis=0),4)\n",
    "maximos = np.round(dados.apply(np.max, axis=0),4)\n",
    "bovespa = bovespa['Close']\n",
    "bovespa = np.diff(bovespa) / bovespa[:-1] - 1 \n",
    "\n",
    "media_bov = np.round(np.mean(bovespa), 4)\n",
    "var_bov = np.round(np.var(bovespa),4)\n",
    "std_bov = np.round(np.var(bovespa),4)\n",
    "min_bov = np.round(np.min(bovespa),4)\n",
    "max_bov = np.round(np.max(bovespa),4)\n",
    "\n",
    "\n",
    "tabela = pd.concat([minimos, maximos, medias, variancias, erro_padrao], axis=1)\n",
    "tabela.loc['Bovespa'] = [min_bov, max_bov, media_bov, var_bov, std_bov]\n",
    "tabela.columns=['Mínimo','Máximo','Média','Variância','Desvio Padrão']\n",
    "#print(tabela.to_latex())\n",
    "print(tabela.to_markdown())"
   ]
  },
  {
   "cell_type": "code",
   "execution_count": null,
   "metadata": {
    "tags": [
     "a"
    ]
   },
   "outputs": [],
   "source": [
    "dados.boxplot(figsize=[16,5], grid=False);\n",
    "eixo_seta()\n",
    "plt.savefig('boxplots.png', dpi=500, \n",
    "            bbox_inches='tight',\n",
    "            pad_inches = 0)"
   ]
  },
  {
   "cell_type": "code",
   "execution_count": null,
   "metadata": {
    "scrolled": true,
    "tags": [
     "a"
    ]
   },
   "outputs": [],
   "source": [
    "fig, ax = plt.subplots(1, 3, figsize = (16,5))\n",
    "for i in range(3):\n",
    "    plot_acf(dados[empresas[i]],  \n",
    "             ax= ax[i], \n",
    "             lags=50,\n",
    "             title='Autocorrelação da série \\n '+ empresas[i])\n",
    "plt.savefig('acfs_originais.png', \n",
    "            dpi=500, \n",
    "            bbox_inches='tight',\n",
    "            pad_inches = 0)"
   ]
  },
  {
   "cell_type": "markdown",
   "metadata": {},
   "source": [
    "Fazendo a primeira diferença em cada série observa-se que, através do gráfico de autorcorrelação, a componente de tendência foi removida. "
   ]
  },
  {
   "cell_type": "code",
   "execution_count": null,
   "metadata": {
    "tags": [
     "a"
    ]
   },
   "outputs": [],
   "source": [
    "fig, ax = plt.subplots(1, 3, figsize = (16,5))\n",
    "for i in range(3):\n",
    "    plot_acf(np.diff(dados[empresas[i]], 1), zero=False,\n",
    "              ax= ax[i], \n",
    "              title='Autocorrelação da série '+ empresas[i]+ ' \\n diferenciada')\n",
    "plt.savefig('acfs_diff1.png',\n",
    "            dpi=500,\n",
    "            bbox_inches='tight',\n",
    "            pad_inches = 0)"
   ]
  },
  {
   "cell_type": "markdown",
   "metadata": {},
   "source": [
    "A remoção das componentes de tendência e de médias móveis pode ser verificada através do teste de raíz unitária Dickey Fuller aumentado, que apresentou as seguintes estatísticas em cada série diferenciada."
   ]
  },
  {
   "cell_type": "code",
   "execution_count": null,
   "metadata": {
    "tags": [
     "a"
    ]
   },
   "outputs": [],
   "source": [
    "dados_dif = dados.apply(np.diff, axis = 0)\n",
    "\n",
    "adf_empresa1 = adfuller(dados_dif[empresas[0]], )\n",
    "adf_empresa2 = adfuller(dados_dif[empresas[1]])\n",
    "adf_empresa3 = adfuller(dados_dif[empresas[2]])\n",
    "\n",
    "serie = empresas\n",
    "ADF = [adf_empresa1[0], adf_empresa2[0], adf_empresa2[0]]\n",
    "vp = [adf_empresa1[1], adf_empresa2[1], adf_empresa2[1]]\n",
    "\n",
    "x = pd.DataFrame({'Est. ADF': ADF, 'Valor-p':vp}, index=serie)\n",
    "#print(x.to_markdown())"
   ]
  },
  {
   "cell_type": "markdown",
   "metadata": {},
   "source": [
    "|          |   Est. ADF |   Valor-p |\n",
    "|:---------|-----------:|----------:|\n",
    "| BBAS3.SA |   -25.5904 |         0 |\n",
    "| BBDC4.SA |   -26.2481 |         0 |\n",
    "| ITSA4.SA |   -26.2481 |         0 |\n",
    "\n",
    "Por estes resultados pode-se afirmar que as séries diferenciadas são estacionárias. Os gráficos de tais séries diferenciadas em ordem um podem ser observadas na Figura 6. Supõe-se, portanto, que a ordem da componente de integração de um modelo ARIMA em série de cada instituição seja 1. Os gráficos das séries estacionárias são mostrados na Figura X."
   ]
  },
  {
   "cell_type": "code",
   "execution_count": null,
   "metadata": {
    "scrolled": false,
    "tags": [
     "a"
    ]
   },
   "outputs": [],
   "source": [
    "fig, ax = plt.subplots(3,1, figsize=[16,12])\n",
    "for i in range(3):\n",
    "    ax[i].plot(dados[empresas[i]].diff(), label=None, color = '#727272');\n",
    "    eixo_seta()\n",
    "    ax[i].set_title(empresas[i]);\n",
    "    ax[i].axhline(y=0, ls='--', color='black')\n",
    "    ax[i].spines['top'].set_visible(False)\n",
    "    ax[i].spines['right'].set_visible(False)\n",
    "    ax[i].tick_params(axis=\"x\", labelsize=16) \n",
    "    ax[i].tick_params(axis=\"y\", labelsize=16)\n",
    "    ax[i].set_xlabel('')\n",
    "plt.savefig('series_diff1.png', \n",
    "            dpi=500, \n",
    "            bbox_inches='tight',\n",
    "            pad_inches = 0)"
   ]
  },
  {
   "cell_type": "markdown",
   "metadata": {},
   "source": [
    "Entretanto, ainda existe a necessidade de verificar a existência da componente auto regressiva e de médias móveis e, dada a fórmula de cálculo do retorno anormal acumulado, é possível que tal componente tenha impacto signficativo no modelo final. Para uma primeira análise, são mostradas na Figura X os gráficos de autocorrelação e autocorrelação parcial de cada série."
   ]
  },
  {
   "cell_type": "code",
   "execution_count": null,
   "metadata": {
    "tags": [
     "a"
    ]
   },
   "outputs": [],
   "source": [
    "fig, ax = plt.subplots(2, 3, figsize = (16,12))\n",
    "for j in range(3):\n",
    "    plot_acf(np.diff(dados[empresas[j]]),\n",
    "              zero=False,\n",
    "              lags=50,\n",
    "              ax= ax[0,j], \n",
    "              title='Autocorrelação da série '+ empresas[j] + '\\n diferenciada')\n",
    "    plot_pacf(np.diff(dados[empresas[j]], 1),\n",
    "              zero=False,\n",
    "              lags=50,\n",
    "              ax= ax[1,j], \n",
    "              title='Autocorrelação parcial da série '+ empresas[j] + '\\n diferenciada')\n",
    "plt.savefig('pacf_diff1.png', \n",
    "            dpi=500, \n",
    "            bbox_inches='tight',\n",
    "            pad_inches = 0)"
   ]
  },
  {
   "cell_type": "code",
   "execution_count": null,
   "metadata": {
    "tags": [
     "a"
    ]
   },
   "outputs": [],
   "source": [
    "def eqm(x,y):\n",
    "    return sum((x-y)**2)/len(x)\n",
    "\n",
    "aicsm1 = []\n",
    "eqmsm1 = []\n",
    "\n",
    "aicsm2 = []\n",
    "eqmsm2 = []\n",
    "\n",
    "ordensM1 = [(1,0,0), (1,0,1), (1,0,1)]\n",
    "ordensM2 = [([2,3],1,[2]), (0,1,[1,2,3,6]), (1,1,[1,6])]\n",
    "\n",
    "for i in range(3):\n",
    "    m1 = ARIMA(dados.iloc[:, i], order = ordensM1[i]).fit()\n",
    "    errom1 = m1.resid\n",
    "    aicsm1.append(m1.aic)\n",
    "    eqmsm1.append(eqm(dados.iloc[:,i], errom1))\n",
    "    \n",
    "    m2 = ARIMA(dados.iloc[:, i], order = ordensM2[i]).fit()\n",
    "    errom2 = m2.resid\n",
    "    aicsm2.append(m2.aic)\n",
    "    eqmsm2.append(eqm(dados.iloc[:,i], errom2))\n",
    "    \n",
    "pd.DataFrame({'aic m1':aicsm1, \n",
    "              'aic m2':aicsm2,\n",
    "              'eqm m1': eqmsm1,\n",
    "               'eqm m2': eqmsm2})"
   ]
  },
  {
   "cell_type": "code",
   "execution_count": null,
   "metadata": {
    "tags": [
     "a"
    ]
   },
   "outputs": [],
   "source": [
    "vetor_datas = m_dados(empresas, inicio, fim, freq='1d').index\n",
    "dados.index = vetor_datas\n",
    "dados.index =pd.DatetimeIndex(dados.index).to_period('D')\n",
    "\n",
    "####ordens ajustadas:\n",
    "# BRASIL = ARIMA(3,2,2) com defasagens especificas nos lags 2 e 3\n",
    "# BRADESCO = ARIMA(0,1,6) com desfasagens especificas nos lags 1,2,3,6\n",
    "# ITAU = ARIMA(1,1,6) com defasagens especificas nos lags 1, 6\n",
    "\n",
    "resumos = []\n",
    "\n",
    "###funcao que calcula o eqm\n",
    "\n",
    "ordens = [([2,3],1,[2]), (0,1,[1,2,3,6]), (1,1,[1,6])]\n",
    "fig, ax = plt.subplots(3,1, figsize=[16,12])\n",
    "\n",
    "quant = 22 ##quantidade de dados para treino\n",
    "for i in range(3):\n",
    "    treino = dados.iloc[:-quant, i]\n",
    "    teste = dados.iloc[-quant:, i]\n",
    "    \n",
    "    modelo = ARIMA(treino, order=ordens[i]).fit()\n",
    "    r = modelo.summary()\n",
    "    r = r.tables[1].as_html()\n",
    "    r = pd.read_html(r, header=0, index_col=0)[0]\n",
    "    resumos.append(r)\n",
    "    \n",
    "    f = modelo.get_forecast(quant)\n",
    "    previsoes = f.predicted_mean\n",
    "    int_conf = f.conf_int(alpha = .05)\n",
    "    f = pd.concat([previsoes, int_conf], axis=1)\n",
    "    f.columns = ['pred','lower','upper']\n",
    "    \n",
    "    treino.index = vetor_datas[:-quant]\n",
    "    teste.index = vetor_datas[-quant:]\n",
    "    f.index = vetor_datas[-quant:]\n",
    "    \n",
    "\n",
    "    # Plot    \n",
    "    ax[i].plot(treino[-50:], label='Treino')\n",
    "    ax[i].plot(teste, label='Teste')\n",
    "    ax[i].plot(f['pred'], label='Previsão')\n",
    "    ax[i].fill_between(f.index, f['lower'], f['upper'], label='IC = 95\\%', color='gray', alpha=.15)\n",
    "    ax[i].set_title(empresas[i])\n",
    "    ax[i].legend(loc='upper left', fontsize=8)\n",
    "    ax[i].spines['top'].set_visible(False)\n",
    "    ax[i].spines['right'].set_visible(False)\n",
    "\n",
    "plt.savefig('previsoes.png', \n",
    "            dpi=500, \n",
    "            bbox_inches='tight',\n",
    "            pad_inches = 0)"
   ]
  },
  {
   "cell_type": "code",
   "execution_count": null,
   "metadata": {},
   "outputs": [],
   "source": [
    "fig, ax = plt.subplots(3,1, figsize=[16,17],dpi=500)\n",
    "\n",
    "resid_test = pd.DataFrame()\n",
    "for i in range(3):\n",
    "    modelo = ARIMA(dados[empresas[i]], order=ordens[i]).fit()\n",
    "\n",
    "    resid_test[empresas[i]] = modelo.resid\n",
    "    \n",
    "    # Plot    \n",
    "    plot_acf(modelo.resid, \n",
    "             ax = ax[i], \n",
    "             zero = False, \n",
    "             title = 'Autocorrelação dos resíduos do modelo ARIMA' + str(ordens[i]) + '\\n ajustados para a série ' + empresas[i])\n",
    "    \n",
    "plt.savefig('fac_residuos.png', \n",
    "            dpi=500, \n",
    "            bbox_inches='tight',\n",
    "            pad_inches = 0)"
   ]
  },
  {
   "cell_type": "code",
   "execution_count": null,
   "metadata": {},
   "outputs": [],
   "source": [
    "dados.index = vetor_datas\n",
    "dados.index =pd.DatetimeIndex(dados.index).to_period('D')\n",
    "\n",
    "####ordens ajustadas:\n",
    "# BRASIL = ARIMA(3,2,2) com defasagens especificas nos lags 2 e 3\n",
    "# BRADESCO = ARIMA(0,1,6) com desfasagens especificas nos lags 1,2,3,6\n",
    "# ITAU = ARIMA(1,1,6) com defasagens especificas nos lags 1, 6\n",
    "\n",
    "ordens = [([2,3],1,[2]), (0,1,[1,2,3,6]), (1,1,[1,6])]\n",
    "\n",
    "fig, ax = plt.subplots(1,1, figsize=[16,5])\n",
    "\n",
    "res = pd.DataFrame(columns = [empresas[0], empresas[1], empresas[2]])\n",
    "for i in range(3):\n",
    "    dados.index =pd.DatetimeIndex(vetor_datas).to_period('D')\n",
    "    modelo = ARIMA(dados[empresas[i]], order=ordens[i]).fit(method='statespace')\n",
    "    #guardando residuos\n",
    "   \n",
    "    res[empresas[i]] = modelo.resid\n",
    "    # Plot\n",
    "    dados.index = vetor_datas\n",
    "    ax.plot(dados[empresas[i]][-50:], label=empresas[i], color=cores[i])\n",
    "    ax.plot(modelo.fittedvalues[-50:], ls='--', color = cores[i], label='ajustado')\n",
    "    ax.legend(loc='upper left', fontsize=8)\n",
    "    ax.spines['top'].set_visible(False)\n",
    "    ax.spines['right'].set_visible(False)\n",
    "\n",
    "plt.savefig('ajustes.png', \n",
    "            dpi=500, \n",
    "            bbox_inches='tight',\n",
    "            pad_inches = 0)"
   ]
  },
  {
   "cell_type": "code",
   "execution_count": null,
   "metadata": {},
   "outputs": [],
   "source": [
    "plt.subplots(1,1, figsize=[16,5])\n",
    "for i in range(3):\n",
    "    lb = acorr_ljungbox(res[empresas[i]], return_df=True, )['lb_pvalue']\n",
    "    plt.plot(lb, label=empresas[i], color=cores[i])\n",
    "    plt.ylabel('Valor-p')\n",
    "    plt.xlabel(r'$lag$')\n",
    "plt.axhline(y=.05, ls='--', label = r'$\\alpha = 5\\%$')\n",
    "plt.legend(loc='upper right')\n",
    "plt.gca().spines['top'].set_visible(False)\n",
    "plt.gca().spines['right'].set_visible(False)\n",
    "\n",
    "plt.savefig('indep_residuos.png', \n",
    "            dpi=500, \n",
    "            bbox_inches='tight',\n",
    "            pad_inches = 0)"
   ]
  }
 ],
 "metadata": {
  "celltoolbar": "Tags",
  "kernelspec": {
   "display_name": "Python 3",
   "language": "python",
   "name": "python3"
  },
  "language_info": {
   "codemirror_mode": {
    "name": "ipython",
    "version": 3
   },
   "file_extension": ".py",
   "mimetype": "text/x-python",
   "name": "python",
   "nbconvert_exporter": "python",
   "pygments_lexer": "ipython3",
   "version": "3.8.5"
  }
 },
 "nbformat": 4,
 "nbformat_minor": 4
}
